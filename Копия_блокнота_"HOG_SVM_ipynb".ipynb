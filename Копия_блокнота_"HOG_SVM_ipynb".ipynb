{
  "nbformat": 4,
  "nbformat_minor": 0,
  "metadata": {
    "colab": {
      "provenance": [],
      "mount_file_id": "1VZjJInqtLtYl2H_76YQG6GR_22LxdpA3",
      "authorship_tag": "ABX9TyNQmmAw0G7vOqO1iuNxNBb2",
      "include_colab_link": true
    },
    "kernelspec": {
      "name": "python3",
      "display_name": "Python 3"
    },
    "language_info": {
      "name": "python"
    }
  },
  "cells": [
    {
      "cell_type": "markdown",
      "metadata": {
        "id": "view-in-github",
        "colab_type": "text"
      },
      "source": [
        "<a href=\"https://colab.research.google.com/github/ZaKSa/HOG_SVM/blob/main/%D0%9A%D0%BE%D0%BF%D0%B8%D1%8F_%D0%B1%D0%BB%D0%BE%D0%BA%D0%BD%D0%BE%D1%82%D0%B0_%22HOG_SVM_ipynb%22.ipynb\" target=\"_parent\"><img src=\"https://colab.research.google.com/assets/colab-badge.svg\" alt=\"Open In Colab\"/></a>"
      ]
    },
    {
      "cell_type": "code",
      "source": [
        "# This Python 3 environment comes with many helpful analytics libraries installed\n",
        "# It is defined by the kaggle/python docker image: https://github.com/kaggle/docker-python\n",
        "# For example, here's several helpful packages to load in \n",
        "\n",
        "import numpy as np # linear algebra\n",
        "import json\n",
        "from matplotlib import pyplot as plt\n",
        "from skimage import color\n",
        "from skimage.feature import hog\n",
        "from sklearn import svm\n",
        "from sklearn.metrics import classification_report,accuracy_score\n",
        "import pandas as pd\n",
        "# Input data files are available in the \"../input/\" directory.\n",
        "# For example, running this (by clicking run or pressing Shift+Enter) will list the files in the input directory\n",
        "\n",
        "from subprocess import check_output\n",
        "print(check_output([\"ls\", \"/content/sample_data\"]).decode(\"utf8\"))\n",
        "\n",
        "# Any results you write to the current directory are saved as output."
      ],
      "metadata": {
        "colab": {
          "base_uri": "https://localhost:8080/"
        },
        "id": "RUP5avOpwD7-",
        "outputId": "fba81063-0a1f-4b6c-a2d3-3818d98ffca7"
      },
      "execution_count": 6,
      "outputs": [
        {
          "output_type": "stream",
          "name": "stdout",
          "text": [
            "anscombe.json\n",
            "california_housing_test.csv\n",
            "california_housing_train.csv\n",
            "mnist_test.csv\n",
            "mnist_train_small.csv\n",
            "numbers.csv\n",
            "README.md\n",
            "\n"
          ]
        }
      ]
    },
    {
      "cell_type": "code",
      "source": [
        "from google.colab import drive\n",
        "drive.mount('/content/drive')"
      ],
      "metadata": {
        "id": "zxosthg4bSei",
        "colab": {
          "base_uri": "https://localhost:8080/"
        },
        "outputId": "a0de13ba-1826-4856-b79f-7bb36d7576d1"
      },
      "execution_count": 7,
      "outputs": [
        {
          "output_type": "stream",
          "name": "stdout",
          "text": [
            "Drive already mounted at /content/drive; to attempt to forcibly remount, call drive.mount(\"/content/drive\", force_remount=True).\n"
          ]
        }
      ]
    },
    {
      "cell_type": "markdown",
      "source": [
        "# Новый раздел"
      ],
      "metadata": {
        "id": "0xqGyCd5bVHI"
      }
    },
    {
      "cell_type": "code",
      "source": [
        "f = open(r'/content/sample_data/numbers.csv')\n",
        "dataset = pd.read_csv(f) \n",
        "\n",
        "lines = f.readlines()\n",
        "data=[]\n",
        "for line in lines:\n",
        "    origin, group, label, files = line[2:].split(',')\n",
        "    data.append((str(origin), str(group), str(label), str(files)))\n",
        " \n",
        "\n",
        "#dataset = json.load(f)\n",
        "f.close()\n",
        "\n",
        "dataset.head(40)"
      ],
      "metadata": {
        "colab": {
          "base_uri": "https://localhost:8080/",
          "height": 1000
        },
        "id": "Dhzmm1YTun__",
        "outputId": "d388255f-8180-4634-d491-738b4226a3ad"
      },
      "execution_count": 8,
      "outputs": [
        {
          "output_type": "execute_result",
          "data": {
            "text/plain": [
              "      origin group  label                                               file\n",
              "0   chars74k   Fnt      8  /content/drive/MyDrive/chars74k_png/img009-004...\n",
              "1   chars74k   Fnt      8  /content/drive/MyDrive/chars74k_png/img009-006...\n",
              "2   chars74k   Fnt      8  /content/drive/MyDrive/chars74k_png/img009-010...\n",
              "3   chars74k   Fnt      8  /content/drive/MyDrive/chars74k_png/img009-000...\n",
              "4   chars74k   Fnt      8  /content/drive/MyDrive/chars74k_png/img009-004...\n",
              "5   chars74k   Fnt      8  /content/drive/MyDrive/chars74k_png/img009-001...\n",
              "6   chars74k   Fnt      8  /content/drive/MyDrive/chars74k_png/img009-008...\n",
              "7   chars74k   Fnt      8  /content/drive/MyDrive/chars74k_png/img009-006...\n",
              "8   chars74k   Fnt      8  /content/drive/MyDrive/chars74k_png/img009-006...\n",
              "9   chars74k   Fnt      8  /content/drive/MyDrive/chars74k_png/img009-006...\n",
              "10  chars74k   Fnt      8  /content/drive/MyDrive/chars74k_png/img009-001...\n",
              "11  chars74k   Fnt      8  /content/drive/MyDrive/chars74k_png/img009-009...\n",
              "12  chars74k   Fnt      8  /content/drive/MyDrive/chars74k_png/img009-001...\n",
              "13  chars74k   Fnt      8  /content/drive/MyDrive/chars74k_png/img009-002...\n",
              "14  chars74k   Fnt      8  /content/drive/MyDrive/chars74k_png/img009-007...\n",
              "15  chars74k   Fnt      8  /content/drive/MyDrive/chars74k_png/img009-004...\n",
              "16  chars74k   Fnt      8  /content/drive/MyDrive/chars74k_png/img009-004...\n",
              "17  chars74k   Fnt      8  /content/drive/MyDrive/chars74k_png/img009-008...\n",
              "18  chars74k   Fnt      8  /content/drive/MyDrive/chars74k_png/img009-005...\n",
              "19  chars74k   Fnt      8  /content/drive/MyDrive/chars74k_png/img009-010...\n",
              "20  chars74k   Fnt      8  /content/drive/MyDrive/chars74k_png/img009-004...\n",
              "21  chars74k   Fnt      8  /content/drive/MyDrive/chars74k_png/img009-000...\n",
              "22  chars74k   Fnt      8  /content/drive/MyDrive/chars74k_png/img009-002...\n",
              "23  chars74k   Fnt      8  /content/drive/MyDrive/chars74k_png/img009-007...\n",
              "24  chars74k   Fnt      8  /content/drive/MyDrive/chars74k_png/img009-002...\n",
              "25  chars74k   Fnt      8  /content/drive/MyDrive/chars74k_png/img009-004...\n",
              "26  chars74k   Fnt      8  /content/drive/MyDrive/chars74k_png/img009-009...\n",
              "27  chars74k   Fnt      8  /content/drive/MyDrive/chars74k_png/img009-006...\n",
              "28  chars74k   Fnt      8  /content/drive/MyDrive/chars74k_png/img009-002...\n",
              "29  chars74k   Fnt      8  /content/drive/MyDrive/chars74k_png/img009-004...\n",
              "30  chars74k   Fnt      8  /content/drive/MyDrive/chars74k_png/img009-001...\n",
              "31  chars74k   Fnt      8  /content/drive/MyDrive/chars74k_png/img009-000...\n",
              "32  chars74k   Fnt      8  /content/drive/MyDrive/chars74k_png/img009-005...\n",
              "33  chars74k   Fnt      8  /content/drive/MyDrive/chars74k_png/img009-003...\n",
              "34  chars74k   Fnt      8  /content/drive/MyDrive/chars74k_png/img009-007...\n",
              "35  chars74k   Fnt      8  /content/drive/MyDrive/chars74k_png/img009-003...\n",
              "36  chars74k   Fnt      8  /content/drive/MyDrive/chars74k_png/img009-000...\n",
              "37  chars74k   Fnt      8  /content/drive/MyDrive/chars74k_png/img009-006...\n",
              "38  chars74k   Fnt      8  /content/drive/MyDrive/chars74k_png/img009-006...\n",
              "39  chars74k   Fnt      8  /content/drive/MyDrive/chars74k_png/img009-007..."
            ],
            "text/html": [
              "\n",
              "  <div id=\"df-a0f261f6-0d89-47d5-82da-6ae999d39abe\">\n",
              "    <div class=\"colab-df-container\">\n",
              "      <div>\n",
              "<style scoped>\n",
              "    .dataframe tbody tr th:only-of-type {\n",
              "        vertical-align: middle;\n",
              "    }\n",
              "\n",
              "    .dataframe tbody tr th {\n",
              "        vertical-align: top;\n",
              "    }\n",
              "\n",
              "    .dataframe thead th {\n",
              "        text-align: right;\n",
              "    }\n",
              "</style>\n",
              "<table border=\"1\" class=\"dataframe\">\n",
              "  <thead>\n",
              "    <tr style=\"text-align: right;\">\n",
              "      <th></th>\n",
              "      <th>origin</th>\n",
              "      <th>group</th>\n",
              "      <th>label</th>\n",
              "      <th>file</th>\n",
              "    </tr>\n",
              "  </thead>\n",
              "  <tbody>\n",
              "    <tr>\n",
              "      <th>0</th>\n",
              "      <td>chars74k</td>\n",
              "      <td>Fnt</td>\n",
              "      <td>8</td>\n",
              "      <td>/content/drive/MyDrive/chars74k_png/img009-004...</td>\n",
              "    </tr>\n",
              "    <tr>\n",
              "      <th>1</th>\n",
              "      <td>chars74k</td>\n",
              "      <td>Fnt</td>\n",
              "      <td>8</td>\n",
              "      <td>/content/drive/MyDrive/chars74k_png/img009-006...</td>\n",
              "    </tr>\n",
              "    <tr>\n",
              "      <th>2</th>\n",
              "      <td>chars74k</td>\n",
              "      <td>Fnt</td>\n",
              "      <td>8</td>\n",
              "      <td>/content/drive/MyDrive/chars74k_png/img009-010...</td>\n",
              "    </tr>\n",
              "    <tr>\n",
              "      <th>3</th>\n",
              "      <td>chars74k</td>\n",
              "      <td>Fnt</td>\n",
              "      <td>8</td>\n",
              "      <td>/content/drive/MyDrive/chars74k_png/img009-000...</td>\n",
              "    </tr>\n",
              "    <tr>\n",
              "      <th>4</th>\n",
              "      <td>chars74k</td>\n",
              "      <td>Fnt</td>\n",
              "      <td>8</td>\n",
              "      <td>/content/drive/MyDrive/chars74k_png/img009-004...</td>\n",
              "    </tr>\n",
              "    <tr>\n",
              "      <th>5</th>\n",
              "      <td>chars74k</td>\n",
              "      <td>Fnt</td>\n",
              "      <td>8</td>\n",
              "      <td>/content/drive/MyDrive/chars74k_png/img009-001...</td>\n",
              "    </tr>\n",
              "    <tr>\n",
              "      <th>6</th>\n",
              "      <td>chars74k</td>\n",
              "      <td>Fnt</td>\n",
              "      <td>8</td>\n",
              "      <td>/content/drive/MyDrive/chars74k_png/img009-008...</td>\n",
              "    </tr>\n",
              "    <tr>\n",
              "      <th>7</th>\n",
              "      <td>chars74k</td>\n",
              "      <td>Fnt</td>\n",
              "      <td>8</td>\n",
              "      <td>/content/drive/MyDrive/chars74k_png/img009-006...</td>\n",
              "    </tr>\n",
              "    <tr>\n",
              "      <th>8</th>\n",
              "      <td>chars74k</td>\n",
              "      <td>Fnt</td>\n",
              "      <td>8</td>\n",
              "      <td>/content/drive/MyDrive/chars74k_png/img009-006...</td>\n",
              "    </tr>\n",
              "    <tr>\n",
              "      <th>9</th>\n",
              "      <td>chars74k</td>\n",
              "      <td>Fnt</td>\n",
              "      <td>8</td>\n",
              "      <td>/content/drive/MyDrive/chars74k_png/img009-006...</td>\n",
              "    </tr>\n",
              "    <tr>\n",
              "      <th>10</th>\n",
              "      <td>chars74k</td>\n",
              "      <td>Fnt</td>\n",
              "      <td>8</td>\n",
              "      <td>/content/drive/MyDrive/chars74k_png/img009-001...</td>\n",
              "    </tr>\n",
              "    <tr>\n",
              "      <th>11</th>\n",
              "      <td>chars74k</td>\n",
              "      <td>Fnt</td>\n",
              "      <td>8</td>\n",
              "      <td>/content/drive/MyDrive/chars74k_png/img009-009...</td>\n",
              "    </tr>\n",
              "    <tr>\n",
              "      <th>12</th>\n",
              "      <td>chars74k</td>\n",
              "      <td>Fnt</td>\n",
              "      <td>8</td>\n",
              "      <td>/content/drive/MyDrive/chars74k_png/img009-001...</td>\n",
              "    </tr>\n",
              "    <tr>\n",
              "      <th>13</th>\n",
              "      <td>chars74k</td>\n",
              "      <td>Fnt</td>\n",
              "      <td>8</td>\n",
              "      <td>/content/drive/MyDrive/chars74k_png/img009-002...</td>\n",
              "    </tr>\n",
              "    <tr>\n",
              "      <th>14</th>\n",
              "      <td>chars74k</td>\n",
              "      <td>Fnt</td>\n",
              "      <td>8</td>\n",
              "      <td>/content/drive/MyDrive/chars74k_png/img009-007...</td>\n",
              "    </tr>\n",
              "    <tr>\n",
              "      <th>15</th>\n",
              "      <td>chars74k</td>\n",
              "      <td>Fnt</td>\n",
              "      <td>8</td>\n",
              "      <td>/content/drive/MyDrive/chars74k_png/img009-004...</td>\n",
              "    </tr>\n",
              "    <tr>\n",
              "      <th>16</th>\n",
              "      <td>chars74k</td>\n",
              "      <td>Fnt</td>\n",
              "      <td>8</td>\n",
              "      <td>/content/drive/MyDrive/chars74k_png/img009-004...</td>\n",
              "    </tr>\n",
              "    <tr>\n",
              "      <th>17</th>\n",
              "      <td>chars74k</td>\n",
              "      <td>Fnt</td>\n",
              "      <td>8</td>\n",
              "      <td>/content/drive/MyDrive/chars74k_png/img009-008...</td>\n",
              "    </tr>\n",
              "    <tr>\n",
              "      <th>18</th>\n",
              "      <td>chars74k</td>\n",
              "      <td>Fnt</td>\n",
              "      <td>8</td>\n",
              "      <td>/content/drive/MyDrive/chars74k_png/img009-005...</td>\n",
              "    </tr>\n",
              "    <tr>\n",
              "      <th>19</th>\n",
              "      <td>chars74k</td>\n",
              "      <td>Fnt</td>\n",
              "      <td>8</td>\n",
              "      <td>/content/drive/MyDrive/chars74k_png/img009-010...</td>\n",
              "    </tr>\n",
              "    <tr>\n",
              "      <th>20</th>\n",
              "      <td>chars74k</td>\n",
              "      <td>Fnt</td>\n",
              "      <td>8</td>\n",
              "      <td>/content/drive/MyDrive/chars74k_png/img009-004...</td>\n",
              "    </tr>\n",
              "    <tr>\n",
              "      <th>21</th>\n",
              "      <td>chars74k</td>\n",
              "      <td>Fnt</td>\n",
              "      <td>8</td>\n",
              "      <td>/content/drive/MyDrive/chars74k_png/img009-000...</td>\n",
              "    </tr>\n",
              "    <tr>\n",
              "      <th>22</th>\n",
              "      <td>chars74k</td>\n",
              "      <td>Fnt</td>\n",
              "      <td>8</td>\n",
              "      <td>/content/drive/MyDrive/chars74k_png/img009-002...</td>\n",
              "    </tr>\n",
              "    <tr>\n",
              "      <th>23</th>\n",
              "      <td>chars74k</td>\n",
              "      <td>Fnt</td>\n",
              "      <td>8</td>\n",
              "      <td>/content/drive/MyDrive/chars74k_png/img009-007...</td>\n",
              "    </tr>\n",
              "    <tr>\n",
              "      <th>24</th>\n",
              "      <td>chars74k</td>\n",
              "      <td>Fnt</td>\n",
              "      <td>8</td>\n",
              "      <td>/content/drive/MyDrive/chars74k_png/img009-002...</td>\n",
              "    </tr>\n",
              "    <tr>\n",
              "      <th>25</th>\n",
              "      <td>chars74k</td>\n",
              "      <td>Fnt</td>\n",
              "      <td>8</td>\n",
              "      <td>/content/drive/MyDrive/chars74k_png/img009-004...</td>\n",
              "    </tr>\n",
              "    <tr>\n",
              "      <th>26</th>\n",
              "      <td>chars74k</td>\n",
              "      <td>Fnt</td>\n",
              "      <td>8</td>\n",
              "      <td>/content/drive/MyDrive/chars74k_png/img009-009...</td>\n",
              "    </tr>\n",
              "    <tr>\n",
              "      <th>27</th>\n",
              "      <td>chars74k</td>\n",
              "      <td>Fnt</td>\n",
              "      <td>8</td>\n",
              "      <td>/content/drive/MyDrive/chars74k_png/img009-006...</td>\n",
              "    </tr>\n",
              "    <tr>\n",
              "      <th>28</th>\n",
              "      <td>chars74k</td>\n",
              "      <td>Fnt</td>\n",
              "      <td>8</td>\n",
              "      <td>/content/drive/MyDrive/chars74k_png/img009-002...</td>\n",
              "    </tr>\n",
              "    <tr>\n",
              "      <th>29</th>\n",
              "      <td>chars74k</td>\n",
              "      <td>Fnt</td>\n",
              "      <td>8</td>\n",
              "      <td>/content/drive/MyDrive/chars74k_png/img009-004...</td>\n",
              "    </tr>\n",
              "    <tr>\n",
              "      <th>30</th>\n",
              "      <td>chars74k</td>\n",
              "      <td>Fnt</td>\n",
              "      <td>8</td>\n",
              "      <td>/content/drive/MyDrive/chars74k_png/img009-001...</td>\n",
              "    </tr>\n",
              "    <tr>\n",
              "      <th>31</th>\n",
              "      <td>chars74k</td>\n",
              "      <td>Fnt</td>\n",
              "      <td>8</td>\n",
              "      <td>/content/drive/MyDrive/chars74k_png/img009-000...</td>\n",
              "    </tr>\n",
              "    <tr>\n",
              "      <th>32</th>\n",
              "      <td>chars74k</td>\n",
              "      <td>Fnt</td>\n",
              "      <td>8</td>\n",
              "      <td>/content/drive/MyDrive/chars74k_png/img009-005...</td>\n",
              "    </tr>\n",
              "    <tr>\n",
              "      <th>33</th>\n",
              "      <td>chars74k</td>\n",
              "      <td>Fnt</td>\n",
              "      <td>8</td>\n",
              "      <td>/content/drive/MyDrive/chars74k_png/img009-003...</td>\n",
              "    </tr>\n",
              "    <tr>\n",
              "      <th>34</th>\n",
              "      <td>chars74k</td>\n",
              "      <td>Fnt</td>\n",
              "      <td>8</td>\n",
              "      <td>/content/drive/MyDrive/chars74k_png/img009-007...</td>\n",
              "    </tr>\n",
              "    <tr>\n",
              "      <th>35</th>\n",
              "      <td>chars74k</td>\n",
              "      <td>Fnt</td>\n",
              "      <td>8</td>\n",
              "      <td>/content/drive/MyDrive/chars74k_png/img009-003...</td>\n",
              "    </tr>\n",
              "    <tr>\n",
              "      <th>36</th>\n",
              "      <td>chars74k</td>\n",
              "      <td>Fnt</td>\n",
              "      <td>8</td>\n",
              "      <td>/content/drive/MyDrive/chars74k_png/img009-000...</td>\n",
              "    </tr>\n",
              "    <tr>\n",
              "      <th>37</th>\n",
              "      <td>chars74k</td>\n",
              "      <td>Fnt</td>\n",
              "      <td>8</td>\n",
              "      <td>/content/drive/MyDrive/chars74k_png/img009-006...</td>\n",
              "    </tr>\n",
              "    <tr>\n",
              "      <th>38</th>\n",
              "      <td>chars74k</td>\n",
              "      <td>Fnt</td>\n",
              "      <td>8</td>\n",
              "      <td>/content/drive/MyDrive/chars74k_png/img009-006...</td>\n",
              "    </tr>\n",
              "    <tr>\n",
              "      <th>39</th>\n",
              "      <td>chars74k</td>\n",
              "      <td>Fnt</td>\n",
              "      <td>8</td>\n",
              "      <td>/content/drive/MyDrive/chars74k_png/img009-007...</td>\n",
              "    </tr>\n",
              "  </tbody>\n",
              "</table>\n",
              "</div>\n",
              "      <button class=\"colab-df-convert\" onclick=\"convertToInteractive('df-a0f261f6-0d89-47d5-82da-6ae999d39abe')\"\n",
              "              title=\"Convert this dataframe to an interactive table.\"\n",
              "              style=\"display:none;\">\n",
              "        \n",
              "  <svg xmlns=\"http://www.w3.org/2000/svg\" height=\"24px\"viewBox=\"0 0 24 24\"\n",
              "       width=\"24px\">\n",
              "    <path d=\"M0 0h24v24H0V0z\" fill=\"none\"/>\n",
              "    <path d=\"M18.56 5.44l.94 2.06.94-2.06 2.06-.94-2.06-.94-.94-2.06-.94 2.06-2.06.94zm-11 1L8.5 8.5l.94-2.06 2.06-.94-2.06-.94L8.5 2.5l-.94 2.06-2.06.94zm10 10l.94 2.06.94-2.06 2.06-.94-2.06-.94-.94-2.06-.94 2.06-2.06.94z\"/><path d=\"M17.41 7.96l-1.37-1.37c-.4-.4-.92-.59-1.43-.59-.52 0-1.04.2-1.43.59L10.3 9.45l-7.72 7.72c-.78.78-.78 2.05 0 2.83L4 21.41c.39.39.9.59 1.41.59.51 0 1.02-.2 1.41-.59l7.78-7.78 2.81-2.81c.8-.78.8-2.07 0-2.86zM5.41 20L4 18.59l7.72-7.72 1.47 1.35L5.41 20z\"/>\n",
              "  </svg>\n",
              "      </button>\n",
              "      \n",
              "  <style>\n",
              "    .colab-df-container {\n",
              "      display:flex;\n",
              "      flex-wrap:wrap;\n",
              "      gap: 12px;\n",
              "    }\n",
              "\n",
              "    .colab-df-convert {\n",
              "      background-color: #E8F0FE;\n",
              "      border: none;\n",
              "      border-radius: 50%;\n",
              "      cursor: pointer;\n",
              "      display: none;\n",
              "      fill: #1967D2;\n",
              "      height: 32px;\n",
              "      padding: 0 0 0 0;\n",
              "      width: 32px;\n",
              "    }\n",
              "\n",
              "    .colab-df-convert:hover {\n",
              "      background-color: #E2EBFA;\n",
              "      box-shadow: 0px 1px 2px rgba(60, 64, 67, 0.3), 0px 1px 3px 1px rgba(60, 64, 67, 0.15);\n",
              "      fill: #174EA6;\n",
              "    }\n",
              "\n",
              "    [theme=dark] .colab-df-convert {\n",
              "      background-color: #3B4455;\n",
              "      fill: #D2E3FC;\n",
              "    }\n",
              "\n",
              "    [theme=dark] .colab-df-convert:hover {\n",
              "      background-color: #434B5C;\n",
              "      box-shadow: 0px 1px 3px 1px rgba(0, 0, 0, 0.15);\n",
              "      filter: drop-shadow(0px 1px 2px rgba(0, 0, 0, 0.3));\n",
              "      fill: #FFFFFF;\n",
              "    }\n",
              "  </style>\n",
              "\n",
              "      <script>\n",
              "        const buttonEl =\n",
              "          document.querySelector('#df-a0f261f6-0d89-47d5-82da-6ae999d39abe button.colab-df-convert');\n",
              "        buttonEl.style.display =\n",
              "          google.colab.kernel.accessAllowed ? 'block' : 'none';\n",
              "\n",
              "        async function convertToInteractive(key) {\n",
              "          const element = document.querySelector('#df-a0f261f6-0d89-47d5-82da-6ae999d39abe');\n",
              "          const dataTable =\n",
              "            await google.colab.kernel.invokeFunction('convertToInteractive',\n",
              "                                                     [key], {});\n",
              "          if (!dataTable) return;\n",
              "\n",
              "          const docLinkHtml = 'Like what you see? Visit the ' +\n",
              "            '<a target=\"_blank\" href=https://colab.research.google.com/notebooks/data_table.ipynb>data table notebook</a>'\n",
              "            + ' to learn more about interactive tables.';\n",
              "          element.innerHTML = '';\n",
              "          dataTable['output_type'] = 'display_data';\n",
              "          await google.colab.output.renderOutput(dataTable, element);\n",
              "          const docLink = document.createElement('div');\n",
              "          docLink.innerHTML = docLinkHtml;\n",
              "          element.appendChild(docLink);\n",
              "        }\n",
              "      </script>\n",
              "    </div>\n",
              "  </div>\n",
              "  "
            ]
          },
          "metadata": {},
          "execution_count": 8
        }
      ]
    },
    {
      "cell_type": "code",
      "source": [
        "#print( np.array(dataset['file']))\n",
        "print( np.array(dataset[dataset['label']==0]))"
      ],
      "metadata": {
        "id": "9uD2huyBh4qJ",
        "colab": {
          "base_uri": "https://localhost:8080/"
        },
        "outputId": "52009a98-ba63-4b04-baec-1b72d5a88647"
      },
      "execution_count": 9,
      "outputs": [
        {
          "output_type": "stream",
          "name": "stdout",
          "text": [
            "[['chars74k' 'Fnt' 0\n",
            "  '/content/drive/MyDrive/chars74k_png/img001-00863.png']\n",
            " ['chars74k' 'Fnt' 0\n",
            "  '/content/drive/MyDrive/chars74k_png/img001-00549.png']\n",
            " ['chars74k' 'Fnt' 0\n",
            "  '/content/drive/MyDrive/chars74k_png/img001-01007.png']\n",
            " ...\n",
            " ['chars74k' 'Fnt' 0\n",
            "  '/content/drive/MyDrive/chars74k_png/img001-00116.png']\n",
            " ['chars74k' 'Fnt' 0\n",
            "  '/content/drive/MyDrive/chars74k_png/img001-00687.png']\n",
            " ['chars74k' 'Fnt' 0\n",
            "  '/content/drive/MyDrive/chars74k_png/img001-00701.png']]\n"
          ]
        }
      ]
    },
    {
      "cell_type": "code",
      "source": [
        "import cv2\n",
        "data = np.array(dataset['file'])#.astype('uint8')\n",
        "img_length = 80\n",
        "img_array=[]\n",
        "for i in range(len(data)):\n",
        "  img=cv2.imread(data[i])\n",
        "  img_array.append(img)\n",
        "\n",
        "\n",
        "#data = data.reshape(-1,3,img_length,img_length).transpose([0,2,3,1])\n"
      ],
      "metadata": {
        "id": "Cw86eWElDLHP"
      },
      "execution_count": 10,
      "outputs": []
    },
    {
      "cell_type": "code",
      "source": [
        "from google.colab.patches import cv2_imshow\n",
        "print(img_array[0])\n",
        "cv2_imshow(img_array[0])"
      ],
      "metadata": {
        "colab": {
          "base_uri": "https://localhost:8080/",
          "height": 996
        },
        "id": "SJFcdoVGaniY",
        "outputId": "b39dd2e6-09ee-4baa-d0db-76496c5417d9"
      },
      "execution_count": 11,
      "outputs": [
        {
          "output_type": "stream",
          "name": "stdout",
          "text": [
            "[[[255 255 255]\n",
            "  [255 255 255]\n",
            "  [255 255 255]\n",
            "  ...\n",
            "  [255 255 255]\n",
            "  [255 255 255]\n",
            "  [255 255 255]]\n",
            "\n",
            " [[255 255 255]\n",
            "  [255 255 255]\n",
            "  [255 255 255]\n",
            "  ...\n",
            "  [255 255 255]\n",
            "  [255 255 255]\n",
            "  [255 255 255]]\n",
            "\n",
            " [[255 255 255]\n",
            "  [255 255 255]\n",
            "  [255 255 255]\n",
            "  ...\n",
            "  [255 255 255]\n",
            "  [255 255 255]\n",
            "  [255 255 255]]\n",
            "\n",
            " ...\n",
            "\n",
            " [[255 255 255]\n",
            "  [255 255 255]\n",
            "  [255 255 255]\n",
            "  ...\n",
            "  [255 255 255]\n",
            "  [255 255 255]\n",
            "  [255 255 255]]\n",
            "\n",
            " [[255 255 255]\n",
            "  [255 255 255]\n",
            "  [255 255 255]\n",
            "  ...\n",
            "  [255 255 255]\n",
            "  [255 255 255]\n",
            "  [255 255 255]]\n",
            "\n",
            " [[255 255 255]\n",
            "  [255 255 255]\n",
            "  [255 255 255]\n",
            "  ...\n",
            "  [255 255 255]\n",
            "  [255 255 255]\n",
            "  [255 255 255]]]\n"
          ]
        },
        {
          "output_type": "display_data",
          "data": {
            "text/plain": [
              "<PIL.Image.Image image mode=RGB size=128x128 at 0x7F4D8295B790>"
            ],
            "image/png": "[encoded data removed]"
          },
          "metadata": {}
        }
      ]
    },
    {
      "cell_type": "code",
      "source": [
        "print(len(img_array))"
      ],
      "metadata": {
        "colab": {
          "base_uri": "https://localhost:8080/"
        },
        "id": "Z4GjWpBmVdxe",
        "outputId": "8bc6168f-5f40-449d-ac94-073d1540181f"
      },
      "execution_count": 12,
      "outputs": [
        {
          "output_type": "stream",
          "name": "stdout",
          "text": [
            "10160\n"
          ]
        }
      ]
    },
    {
      "cell_type": "code",
      "source": [],
      "metadata": {
        "colab": {
          "base_uri": "https://localhost:8080/"
        },
        "id": "wd1cp4QBe-EL",
        "outputId": "1608cb0b-2870-4b48-e3f8-90092120e640"
      },
      "execution_count": 62,
      "outputs": [
        {
          "output_type": "stream",
          "name": "stdout",
          "text": [
            "None\n"
          ]
        }
      ]
    },
    {
      "cell_type": "code",
      "source": [
        "data_gray=[]\n",
        "\n",
        "for i in img_array:\n",
        "  if i is not None:\n",
        "    data_gray.append(cv2.cvtColor(i, cv2.COLOR_BGR2GRAY))\n",
        "    \n",
        "#data_gray = [ color.rgb2gray(i) for i in img_array]\n",
        "plt.imshow(data_gray[100])"
      ],
      "metadata": {
        "colab": {
          "base_uri": "https://localhost:8080/",
          "height": 285
        },
        "id": "3ui2g2xuDOYt",
        "outputId": "3b66d279-2320-4e40-c9a2-672ab2acc189"
      },
      "execution_count": 13,
      "outputs": [
        {
          "output_type": "execute_result",
          "data": {
            "text/plain": [
              "<matplotlib.image.AxesImage at 0x7f4d76ee58e0>"
            ]
          },
          "metadata": {},
          "execution_count": 13
        },
        {
          "output_type": "display_data",
          "data": {
            "text/plain": [
              "<Figure size 432x288 with 1 Axes>"
            ],
            "image/png": "[encoded data removed]"
          },
          "metadata": {
            "needs_background": "light"
          }
        }
      ]
    },
    {
      "cell_type": "code",
      "source": [
        "plt.imshow(data_gray[5000])"
      ],
      "metadata": {
        "colab": {
          "base_uri": "https://localhost:8080/",
          "height": 285
        },
        "id": "A6BzKFkeZy3a",
        "outputId": "620af401-aa85-4cc9-8235-e7018be2aecd"
      },
      "execution_count": 14,
      "outputs": [
        {
          "output_type": "execute_result",
          "data": {
            "text/plain": [
              "<matplotlib.image.AxesImage at 0x7f4d76e3bb80>"
            ]
          },
          "metadata": {},
          "execution_count": 14
        },
        {
          "output_type": "display_data",
          "data": {
            "text/plain": [
              "<Figure size 432x288 with 1 Axes>"
            ],
            "image/png": "[encoded data removed]"
          },
          "metadata": {
            "needs_background": "light"
          }
        }
      ]
    },
    {
      "cell_type": "code",
      "source": [
        "ppc = 16\n",
        "hog_images = []\n",
        "hog_features = []\n",
        "for image in data_gray:\n",
        "    fd,hog_image = hog(image, orientations=8, pixels_per_cell=(ppc,ppc),cells_per_block=(4, 4),block_norm= 'L2',visualize=True)\n",
        "    hog_images.append(hog_image)\n",
        "    hog_features.append(fd)"
      ],
      "metadata": {
        "id": "caJurCn1DSmS"
      },
      "execution_count": 15,
      "outputs": []
    },
    {
      "cell_type": "code",
      "source": [
        "plt.imshow(hog_images[100])\n"
      ],
      "metadata": {
        "id": "wooESsdkDWFA",
        "colab": {
          "base_uri": "https://localhost:8080/",
          "height": 285
        },
        "outputId": "73f0047c-e5e7-4fdf-87e7-d4c0f9b29a24"
      },
      "execution_count": 16,
      "outputs": [
        {
          "output_type": "execute_result",
          "data": {
            "text/plain": [
              "<matplotlib.image.AxesImage at 0x7f4db89f5070>"
            ]
          },
          "metadata": {},
          "execution_count": 16
        },
        {
          "output_type": "display_data",
          "data": {
            "text/plain": [
              "<Figure size 432x288 with 1 Axes>"
            ],
            "image/png": "[encoded data removed]"
          },
          "metadata": {
            "needs_background": "light"
          }
        }
      ]
    },
    {
      "cell_type": "code",
      "source": [
        "labels =  np.array(dataset['label']).reshape(len(dataset['label']),1)"
      ],
      "metadata": {
        "id": "q-uwTX6sDWqI"
      },
      "execution_count": 38,
      "outputs": []
    },
    {
      "cell_type": "code",
      "source": [
        "print(len(labels))"
      ],
      "metadata": {
        "colab": {
          "base_uri": "https://localhost:8080/"
        },
        "id": "PYDLnXl4X1kb",
        "outputId": "1624b539-e857-4c07-e8da-ad3faaf9211d"
      },
      "execution_count": 40,
      "outputs": [
        {
          "output_type": "stream",
          "name": "stdout",
          "text": [
            "10160\n"
          ]
        }
      ]
    },
    {
      "cell_type": "code",
      "source": [
        "label0=np.array(dataset['label']).reshape(len(dataset['label']),1)\n",
        "\n",
        "index=[]\n",
        "for i, img in enumerate(img_array):\n",
        "  if img is None:\n",
        "    index.append(i)\n",
        "\n",
        "label0=np.delete(label0, index)\n",
        "\n",
        "#label0=np.reshape(len(label0),1)"
      ],
      "metadata": {
        "id": "kFHl2W4bcSHL"
      },
      "execution_count": 96,
      "outputs": []
    },
    {
      "cell_type": "code",
      "source": [
        "label0=np.array(label0).reshape(len(label0),1)\n",
        "print(len(label0))\n",
        "print(len(label0[0]))\n",
        "#labels0=np.reshape(len(label0),1)\n",
        "#print(labels0.shape)"
      ],
      "metadata": {
        "colab": {
          "base_uri": "https://localhost:8080/"
        },
        "id": "BNztwhrAl5Iu",
        "outputId": "4c8393d9-6354-4151-fbba-5ab3707e0c50"
      },
      "execution_count": 97,
      "outputs": [
        {
          "output_type": "stream",
          "name": "stdout",
          "text": [
            "5040\n",
            "1\n"
          ]
        }
      ]
    },
    {
      "cell_type": "code",
      "source": [
        "print(len(np.array(hog_features)[0]))\n",
        "print(len(np.array(hog_features)))\n",
        "print()\n",
        "print(len(np.array(label0)[0]))\n",
        "print(len(np.array(label0)))"
      ],
      "metadata": {
        "colab": {
          "base_uri": "https://localhost:8080/"
        },
        "id": "BvA1_nN3kNML",
        "outputId": "c4c96cbf-e6fd-4c08-ff78-b1c1e4b3d2e4"
      },
      "execution_count": 94,
      "outputs": [
        {
          "output_type": "stream",
          "name": "stdout",
          "text": [
            "3200\n",
            "5040\n",
            "\n",
            "1\n",
            "1\n"
          ]
        }
      ]
    },
    {
      "cell_type": "code",
      "source": [
        "clf = svm.SVC()\n",
        "hog_features = np.array(hog_features)\n",
        "data_frame = np.hstack((hog_features,label0))\n",
        "np.random.shuffle(data_frame)"
      ],
      "metadata": {
        "id": "7LNf9zc6DZEI"
      },
      "execution_count": 98,
      "outputs": []
    },
    {
      "cell_type": "code",
      "source": [
        "#What percentage of data you want to keep for training\n",
        "percentage = 80\n",
        "partition = int(len(hog_features)*percentage/100)"
      ],
      "metadata": {
        "id": "VNwPBXpHDc1h"
      },
      "execution_count": 99,
      "outputs": []
    },
    {
      "cell_type": "code",
      "source": [
        "x_train, x_test = data_frame[:partition,:-1],  data_frame[partition:,:-1]\n",
        "y_train, y_test = data_frame[:partition,-1:].ravel() , data_frame[partition:,-1:].ravel()\n",
        "\n",
        "print(data_frame[:10,:-1])\n",
        "clf.fit(x_train,y_train)"
      ],
      "metadata": {
        "id": "G8iRr1FKDfdd",
        "colab": {
          "base_uri": "https://localhost:8080/",
          "height": 196
        },
        "outputId": "af2764e1-3a2f-451e-b252-6420ac3fc64b"
      },
      "execution_count": 101,
      "outputs": [
        {
          "output_type": "stream",
          "name": "stdout",
          "text": [
            "[[0. 0. 0. ... 0. 0. 0.]\n",
            " [0. 0. 0. ... 0. 0. 0.]\n",
            " [0. 0. 0. ... 0. 0. 0.]\n",
            " ...\n",
            " [0. 0. 0. ... 0. 0. 0.]\n",
            " [0. 0. 0. ... 0. 0. 0.]\n",
            " [0. 0. 0. ... 0. 0. 0.]]\n"
          ]
        },
        {
          "output_type": "execute_result",
          "data": {
            "text/plain": [
              "SVC()"
            ],
            "text/html": [
              "<style>#sk-container-id-1 {color: black;background-color: white;}#sk-container-id-1 pre{padding: 0;}#sk-container-id-1 div.sk-toggleable {background-color: white;}#sk-container-id-1 label.sk-toggleable__label {cursor: pointer;display: block;width: 100%;margin-bottom: 0;padding: 0.3em;box-sizing: border-box;text-align: center;}#sk-container-id-1 label.sk-toggleable__label-arrow:before {content: \"▸\";float: left;margin-right: 0.25em;color: #696969;}#sk-container-id-1 label.sk-toggleable__label-arrow:hover:before {color: black;}#sk-container-id-1 div.sk-estimator:hover label.sk-toggleable__label-arrow:before {color: black;}#sk-container-id-1 div.sk-toggleable__content {max-height: 0;max-width: 0;overflow: hidden;text-align: left;background-color: #f0f8ff;}#sk-container-id-1 div.sk-toggleable__content pre {margin: 0.2em;color: black;border-radius: 0.25em;background-color: #f0f8ff;}#sk-container-id-1 input.sk-toggleable__control:checked~div.sk-toggleable__content {max-height: 200px;max-width: 100%;overflow: auto;}#sk-container-id-1 input.sk-toggleable__control:checked~label.sk-toggleable__label-arrow:before {content: \"▾\";}#sk-container-id-1 div.sk-estimator input.sk-toggleable__control:checked~label.sk-toggleable__label {background-color: #d4ebff;}#sk-container-id-1 div.sk-label input.sk-toggleable__control:checked~label.sk-toggleable__label {background-color: #d4ebff;}#sk-container-id-1 input.sk-hidden--visually {border: 0;clip: rect(1px 1px 1px 1px);clip: rect(1px, 1px, 1px, 1px);height: 1px;margin: -1px;overflow: hidden;padding: 0;position: absolute;width: 1px;}#sk-container-id-1 div.sk-estimator {font-family: monospace;background-color: #f0f8ff;border: 1px dotted black;border-radius: 0.25em;box-sizing: border-box;margin-bottom: 0.5em;}#sk-container-id-1 div.sk-estimator:hover {background-color: #d4ebff;}#sk-container-id-1 div.sk-parallel-item::after {content: \"\";width: 100%;border-bottom: 1px solid gray;flex-grow: 1;}#sk-container-id-1 div.sk-label:hover label.sk-toggleable__label {background-color: #d4ebff;}#sk-container-id-1 div.sk-serial::before {content: \"\";position: absolute;border-left: 1px solid gray;box-sizing: border-box;top: 0;bottom: 0;left: 50%;z-index: 0;}#sk-container-id-1 div.sk-serial {display: flex;flex-direction: column;align-items: center;background-color: white;padding-right: 0.2em;padding-left: 0.2em;position: relative;}#sk-container-id-1 div.sk-item {position: relative;z-index: 1;}#sk-container-id-1 div.sk-parallel {display: flex;align-items: stretch;justify-content: center;background-color: white;position: relative;}#sk-container-id-1 div.sk-item::before, #sk-container-id-1 div.sk-parallel-item::before {content: \"\";position: absolute;border-left: 1px solid gray;box-sizing: border-box;top: 0;bottom: 0;left: 50%;z-index: -1;}#sk-container-id-1 div.sk-parallel-item {display: flex;flex-direction: column;z-index: 1;position: relative;background-color: white;}#sk-container-id-1 div.sk-parallel-item:first-child::after {align-self: flex-end;width: 50%;}#sk-container-id-1 div.sk-parallel-item:last-child::after {align-self: flex-start;width: 50%;}#sk-container-id-1 div.sk-parallel-item:only-child::after {width: 0;}#sk-container-id-1 div.sk-dashed-wrapped {border: 1px dashed gray;margin: 0 0.4em 0.5em 0.4em;box-sizing: border-box;padding-bottom: 0.4em;background-color: white;}#sk-container-id-1 div.sk-label label {font-family: monospace;font-weight: bold;display: inline-block;line-height: 1.2em;}#sk-container-id-1 div.sk-label-container {text-align: center;}#sk-container-id-1 div.sk-container {/* jupyter's `normalize.less` sets `[hidden] { display: none; }` but bootstrap.min.css set `[hidden] { display: none !important; }` so we also need the `!important` here to be able to override the default hidden behavior on the sphinx rendered scikit-learn.org. See: https://github.com/scikit-learn/scikit-learn/issues/21755 */display: inline-block !important;position: relative;}#sk-container-id-1 div.sk-text-repr-fallback {display: none;}</style><div id=\"sk-container-id-1\" class=\"sk-top-container\"><div class=\"sk-text-repr-fallback\"><pre>SVC()</pre><b>In a Jupyter environment, please rerun this cell to show the HTML representation or trust the notebook. <br />On GitHub, the HTML representation is unable to render, please try loading this page with nbviewer.org.</b></div><div class=\"sk-container\" hidden><div class=\"sk-item\"><div class=\"sk-estimator sk-toggleable\"><input class=\"sk-toggleable__control sk-hidden--visually\" id=\"sk-estimator-id-1\" type=\"checkbox\" checked><label for=\"sk-estimator-id-1\" class=\"sk-toggleable__label sk-toggleable__label-arrow\">SVC</label><div class=\"sk-toggleable__content\"><pre>SVC()</pre></div></div></div></div></div>"
            ]
          },
          "metadata": {},
          "execution_count": 101
        }
      ]
    },
    {
      "cell_type": "code",
      "source": [
        "print(len(x_train),\"\\n\",len(x_test))"
      ],
      "metadata": {
        "id": "9WBoJ97xepnb",
        "colab": {
          "base_uri": "https://localhost:8080/"
        },
        "outputId": "abff7b49-dbd5-4ce4-ec30-96b7388ac8e7"
      },
      "execution_count": 102,
      "outputs": [
        {
          "output_type": "stream",
          "name": "stdout",
          "text": [
            "4032 \n",
            " 1008\n"
          ]
        }
      ]
    },
    {
      "cell_type": "code",
      "source": [
        "y_pred = clf.predict(x_test)"
      ],
      "metadata": {
        "id": "wSmGjQiqDh2z"
      },
      "execution_count": 103,
      "outputs": []
    },
    {
      "cell_type": "code",
      "source": [
        "print(\"Accuracy: \"+str(accuracy_score(y_test, y_pred)))\n",
        "print('\\n')\n",
        "print(classification_report(y_test, y_pred))\n"
      ],
      "metadata": {
        "id": "3bFW-AKPDjfZ",
        "colab": {
          "base_uri": "https://localhost:8080/"
        },
        "outputId": "b01f75d5-7d99-49f3-a5b6-dc60bda954c3"
      },
      "execution_count": 104,
      "outputs": [
        {
          "output_type": "stream",
          "name": "stdout",
          "text": [
            "Accuracy: 0.9930555555555556\n",
            "\n",
            "\n",
            "              precision    recall  f1-score   support\n",
            "\n",
            "         0.0       1.00      0.99      1.00       122\n",
            "         1.0       0.95      1.00      0.98       100\n",
            "         2.0       1.00      0.99      0.99       100\n",
            "         3.0       0.97      1.00      0.99        70\n",
            "         4.0       1.00      0.98      0.99       109\n",
            "         5.0       1.00      1.00      1.00       119\n",
            "         6.0       1.00      1.00      1.00        98\n",
            "         7.0       1.00      0.99      0.99        89\n",
            "         8.0       1.00      1.00      1.00       100\n",
            "         9.0       1.00      0.98      0.99       101\n",
            "\n",
            "    accuracy                           0.99      1008\n",
            "   macro avg       0.99      0.99      0.99      1008\n",
            "weighted avg       0.99      0.99      0.99      1008\n",
            "\n"
          ]
        }
      ]
    },
    {
      "cell_type": "code",
      "source": [
        "print(\"Training accuracy:\", clf.score(x_train, y_train))\n",
        "print(\"Validation accuracy:\", clf.score(x_test, y_test))"
      ],
      "metadata": {
        "id": "B5VL34wNdxrr",
        "colab": {
          "base_uri": "https://localhost:8080/"
        },
        "outputId": "d06dd382-88df-49cd-979b-5e890a87b9b2"
      },
      "execution_count": 105,
      "outputs": [
        {
          "output_type": "stream",
          "name": "stdout",
          "text": [
            "Training accuracy: 0.9997519841269841\n",
            "Validation accuracy: 0.9930555555555556\n"
          ]
        }
      ]
    }
  ]
}